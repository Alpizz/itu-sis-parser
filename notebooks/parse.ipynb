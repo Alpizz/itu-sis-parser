{
 "cells": [
  {
   "cell_type": "code",
   "execution_count": null,
   "metadata": {},
   "outputs": [],
   "source": [
    "import requests\n",
    "import pandas as pd\n",
    "from bs4 import BeautifulSoup\n",
    "\n",
    "course_code = \"END\"\n",
    "course_crn = \"12721\"\n",
    "student_level = \"LS\"\n",
    "\n",
    "headers = {\n",
    "    'Accept': 'text/html,application/xhtml+xml,application/xml;q=0.9,*/*;q=0.8',\n",
    "    'Content-Type': 'application/x-www-form-urlencoded',\n",
    "    'Origin': 'https://www.sis.itu.edu.tr',\n",
    "    'Accept-Language': 'tr-tr',\n",
    "    'Host': 'www.sis.itu.edu.tr',\n",
    "    'Referer': f'https://www.sis.itu.edu.tr/TR/ogrenci/ders-programi/ders-programi.php?seviye={student_level}',\n",
    "    'Connection': 'keep-alive'\n",
    "}\n",
    "\n",
    "params = {\n",
    "    'seviye': f'{student_level}'\n",
    "}\n",
    "\n",
    "\n",
    "data = f'seviye={student_level}&derskodu={course_code}&B1=G%F6ster'\n",
    "\n",
    "response = requests.post('https://www.sis.itu.edu.tr/TR/ogrenci/ders-programi/ders-programi.php', params=params, headers=headers, data=data)\n",
    "\n",
    "soup = BeautifulSoup(response.text, 'lxml')\n",
    "div_objects = soup.find_all(\"div\", {\"class\":\"content-area\"})\n",
    "texts = [r.text.strip() for r in div_objects][0]\n",
    "last_update = texts[texts.find(\"Son Güncelleme: \")+16:]\n",
    "table = soup.find_all('table')[0]\n",
    "rows = table.find_all('tr')\n",
    "course_table = pd.DataFrame(columns = range(0,15),index = range(0,len(rows)-2))\n",
    "row_marker = 0\n",
    "for row in rows:\n",
    "    if row.attrs:\n",
    "        if row.attrs['class'] == ['table-baslik']:\n",
    "            a = row.find_all('td')\n",
    "            new_list = [i.get_text().strip() for i in a]\n",
    "            course_table.columns = list(new_list)\n",
    "            continue\n",
    "    column_marker = 0\n",
    "    columns = row.find_all('td')\n",
    "    for column in columns:\n",
    "        course_table.iat[row_marker,column_marker] = column.get_text()\n",
    "        column_marker += 1\n",
    "    row_marker += 1\n",
    "indus_40 = course_table.loc[course_table[\"CRN\"] == course_crn]\n",
    "if indus_40.empty:\n",
    "    print(f\"Course not found with given parameters: '{course_code}', '{course_crn}'\")\n",
    "    quit()\n",
    "capacity = int(indus_40[\"Capacity\"].values[0])\n",
    "enrolled = int(indus_40[\"Enrolled\"].values[0])\n",
    "course_title = str(indus_40[\"Course Title\"].values[0])\n",
    "if capacity > enrolled:\n",
    "    print(f\"There is a spot in the class '{course_title} {course_crn}' ({enrolled}/{capacity})\")\n",
    "else:\n",
    "    print(f\"There is no spot in the class '{course_title} {course_crn}' ({enrolled}/{capacity})\")\n",
    "print(f\"Last update: {last_update}\")"
   ]
  }
 ],
 "metadata": {
  "kernelspec": {
   "display_name": "Python 3.9.13 ('.venv': venv)",
   "language": "python",
   "name": "python3"
  },
  "language_info": {
   "codemirror_mode": {
    "name": "ipython",
    "version": 3
   },
   "file_extension": ".py",
   "mimetype": "text/x-python",
   "name": "python",
   "nbconvert_exporter": "python",
   "pygments_lexer": "ipython3",
   "version": "3.9.13"
  },
  "orig_nbformat": 4,
  "vscode": {
   "interpreter": {
    "hash": "f36c63d8fc3bebd47395fc8572b79d9977454687c4bfcd357cf72f5330a57e81"
   }
  }
 },
 "nbformat": 4,
 "nbformat_minor": 2
}
